{
 "cells": [
  {
   "cell_type": "markdown",
   "id": "b1b7e858-3372-4054-87e6-4453515eefed",
   "metadata": {},
   "source": [
    "# Notebook for processing length polymorphic libraries"
   ]
  },
  {
   "cell_type": "markdown",
   "id": "108b5c2a-0899-402a-8cc7-86120a681f12",
   "metadata": {},
   "source": [
    "A key component is this notebook uses prior assignments of barcodes to junction identities from Mendes and Russell 2021 as well as plasmid counts from those same libraries. This is because the same libraries were used. Those seeking to repeat these analyses would want to refer to the original code to assign their own libraries."
   ]
  },
  {
   "cell_type": "code",
   "execution_count": 1,
   "id": "b909cdf6-3a4c-4b22-97d1-b493ade47d70",
   "metadata": {},
   "outputs": [],
   "source": [
    "import pandas as pd\n",
    "import sys\n",
    "\n",
    "segmentsToTarget = ['HA_vRNA','PB1_vRNA']\n",
    "scripts = 'Scripts'\n",
    "sys.path.append(scripts)\n",
    "import deletionLibrary\n",
    "#an adapter in our mapping, remove from here\n",
    "adapter = 'CCCTGAGACCAATA'\n",
    "UPadd = 'CGTGTAGGCGATGGC'\n",
    "DWNadd = 'ACTGCTTGCGATGAT'\n",
    "junctionAdapter = 'Database/junctionSeqAdapter.fa'\n",
    "import matplotlib.pyplot as plt\n",
    "import matplotlib.gridspec as gridspec\n",
    "plt.rcParams['pdf.fonttype'] = 42\n",
    "plt.rcParams.update({'font.size': 12, 'axes.titlesize':'medium',})\n",
    "import seaborn as sns\n",
    "from string import ascii_uppercase\n",
    "import glob\n",
    "import numpy as np\n",
    "import math\n",
    "import os \n",
    "#same colors for the same segments throughout this paper. Use a colorblind-friendly palette\n",
    "colormap = 'colorblind'\n",
    "colors = sns.color_palette(colormap, 8)\n",
    "#different order here as the 2nd and 4th colors of this palette are too similar\n",
    "segments = ['PB1_vRNA','HA_vRNA','PB2_vRNA',  'PA_vRNA','NP_vRNA','NA_vRNA','M_vRNA','NS_vRNA']\n",
    "fluColors = {}\n",
    "for color, segment in enumerate(segments):\n",
    "    fluColors[segment] = colors[color]\n",
    "    \n",
    "twoColorPalette = [sns.color_palette('colorblind',8)[-2],sns.color_palette('dark', 8)[-1]]\n",
    "#for some light parallel processing\n",
    "from multiprocessing import Pool\n",
    "lengths = {'PB1_vRNA':2341, 'HA_vRNA':1775}\n",
    "\n",
    "numProcessors = 4"
   ]
  },
  {
   "cell_type": "markdown",
   "id": "a6f3fed2-daad-4dd9-9346-041e31270f34",
   "metadata": {},
   "source": [
    "Extract barcodes from sequencing"
   ]
  },
  {
   "cell_type": "code",
   "execution_count": 3,
   "id": "c74e6ed1-a544-4ca0-b1a0-5caeca0320cc",
   "metadata": {},
   "outputs": [
    {
     "name": "stdout",
     "output_type": "stream",
     "text": [
      "Sequencing/LengthPolymorph/library_H_1_withNEP_barcodes.tsv\n",
      "Sequencing/LengthPolymorph/library_H_3_withNEP_barcodes.tsv\n",
      "Sequencing/LengthPolymorph/library_P_3_withNEP_barcodes.tsv\n",
      "Sequencing/LengthPolymorph/library_H_1_noNEP_barcodes.tsv\n",
      "Sequencing/LengthPolymorph/library_H_2_withNEP_barcodes.tsv\n",
      "Sequencing/LengthPolymorph/library_H_2_noNEP_barcodes.tsv\n",
      "Sequencing/LengthPolymorph/library_P_1_withNEP_barcodes.tsv\n",
      "Sequencing/LengthPolymorph/library_P_2_withNEP_barcodes.tsv\n",
      "Sequencing/LengthPolymorph/library_P_1_noNEP_barcodes.tsv\n",
      "Sequencing/LengthPolymorph/library_H_3_noNEP_barcodes.tsv\n",
      "Sequencing/LengthPolymorph/library_P_3_noNEP_barcodes.tsv\n",
      "Sequencing/LengthPolymorph/library_P_2_noNEP_barcodes.tsv\n"
     ]
    }
   ],
   "source": [
    "def barcode(pandas):\n",
    "    read1 = pandas[pandas.read == 'R1'].file.iloc[0]\n",
    "    read1Unzip = read1[:-3]\n",
    "    read2 = pandas[pandas.read == 'R2'].file.iloc[0]\n",
    "    read2Unzip = read2[:-3]\n",
    "    outFile = directory + 'library_' + str(pandas.library.iloc[0]) + '_barcodes.tsv'\n",
    "    !gunzip -c $read1  > $read1Unzip\n",
    "    !gunzip -c $read2  > $read2Unzip\n",
    "    print(outFile)\n",
    "    deletionLibrary.barcodeCount(Read1=read1Unzip, Read2 = read2Unzip, adjSeq = 'GTGCTCTTCCGGCCATCGCCTACACGACGCTTC',\n",
    "                barcodeLen=12,  outfile=outFile)\n",
    "    !rm -f $read1Unzip\n",
    "    !rm -f $read2Unzip\n",
    "\n",
    "\n",
    "\n",
    "filesToProcess = []\n",
    "directory = 'Sequencing/LengthPolymorph/'\n",
    "for file in glob.glob(directory + '*.gz'):\n",
    "    seg = file.split('/')[-1].split('_')\n",
    "    read = seg[-2]\n",
    "    NEP = seg[-3].split('-')[-1]\n",
    "    segment = seg[-3].split('-')[1]\n",
    "    library = []\n",
    "    currFrame = pd.DataFrame({'read':[read], 'NEP':[NEP], 'file':[file], 'segment':segment[0], 'replicate':segment[1], \n",
    "                                     'library':['_'.join([segment[0],segment[1],NEP])] })\n",
    "    outFile = directory + 'library_' + str(currFrame.library.iloc[0]) + '_barcodes.tsv'\n",
    "    if not os.path.isfile(outFile):\n",
    "        filesToProcess += [currFrame]\n",
    "filesToProcess = pd.concat(filesToProcess)\n",
    "\n",
    "popList = set(filesToProcess.library)\n",
    "while len(popList) > 0:\n",
    "    with Pool(processes = numProcessors) as p:\n",
    "        p.map(barcode, [filesToProcess[filesToProcess.library == popList.pop()] for i in range(numProcessors) if len(popList) != 0])\n",
    "\n"
   ]
  },
  {
   "cell_type": "code",
   "execution_count": null,
   "id": "7524ad59-d3c4-48e6-aa48-a7778dd6a15b",
   "metadata": {},
   "outputs": [],
   "source": []
  }
 ],
 "metadata": {
  "kernelspec": {
   "display_name": "Python 3 (ipykernel)",
   "language": "python",
   "name": "python3"
  },
  "language_info": {
   "codemirror_mode": {
    "name": "ipython",
    "version": 3
   },
   "file_extension": ".py",
   "mimetype": "text/x-python",
   "name": "python",
   "nbconvert_exporter": "python",
   "pygments_lexer": "ipython3",
   "version": "3.12.2"
  }
 },
 "nbformat": 4,
 "nbformat_minor": 5
}

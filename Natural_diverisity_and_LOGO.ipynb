{
 "cells": [
  {
   "cell_type": "markdown",
   "id": "a665c51f-3e50-4d56-9c34-1015299bb030",
   "metadata": {},
   "source": [
    "# Natural diversity"
   ]
  },
  {
   "cell_type": "markdown",
   "id": "4c8b00d0-c1a4-4e2c-a7d8-8955434ab7e5",
   "metadata": {},
   "source": [
    "Compare mutational data against existing PB1 diversity, as well as generate sequence logos for regions of interst for the sake of looking how different bases impact fitness.\n",
    "\n",
    "PB1 sequences from NCBI flu database (https://www.ncbi.nlm.nih.gov/genomes/FLU/Database/nph-select.cgi?go=database)\n",
    "    Jul 25 2024\n",
    "\n",
    "Parameters were to exclude lab strains, exclude vaccine strains, only full-length, only sequences of 2341 in length.\n",
    "\n",
    "CD-HIT-est was then used to cluster anything with 99% identity to attempt to reduce over-represented sequences. \n",
    "\n",
    "Removed any sequences with ambiguous characters.\n",
    "\n",
    "Manually curated to remove clear indels, as sequences should align with no effort.\n",
    "\n",
    "This results in 1939 high-quality PB1 sequences. I did not restrict based on host, which could produce some disagreement with data."
   ]
  },
  {
   "cell_type": "code",
   "execution_count": 1,
   "id": "7eae8b4e-3261-4a20-89a1-4315d16dae84",
   "metadata": {},
   "outputs": [],
   "source": [
    "import glob\n",
    "import os\n",
    "import matplotlib.pyplot as plt\n",
    "import numpy as np\n",
    "import pandas as pd\n",
    "import seaborn as sns\n",
    "import sys\n",
    "scripts = 'Scripts'\n",
    "sys.path.append(scripts)\n",
    "import mutCalling\n",
    "import scipy\n",
    "from scipy import stats\n",
    "from statsmodels.stats.multicomp import pairwise_tukeyhsd\n",
    "import dmslogo\n",
    "from statsmodels.stats import multitest\n",
    "plt.rcParams['pdf.fonttype'] = 42\n",
    "plt.rcParams.update({'font.size': 12, 'axes.titlesize':'medium',})"
   ]
  },
  {
   "cell_type": "code",
   "execution_count": 36,
   "id": "2d1e5a87-9b4f-4f4b-b4dc-51cbbf26eff6",
   "metadata": {},
   "outputs": [],
   "source": [
    "import importlib\n",
    "importlib.reload(mutCalling)\n",
    "PB1align = 'Database/reducedFluPB1.fa'\n",
    "if not os.path.isdir('Results'):\n",
    "    os.mkdir('Results')\n",
    "if not os.path.isdir('Results/naturalAnalysis'):\n",
    "    os.mkdir('Results/naturalAnalysis')\n",
    "mutCalling.fastaReport(inFasta=PB1align, outfile='Results/naturalAnalysis/PB1natural.tsv')"
   ]
  },
  {
   "cell_type": "code",
   "execution_count": 37,
   "id": "8ee309c5-b73b-40ae-ba32-bb206cc2f360",
   "metadata": {},
   "outputs": [],
   "source": [
    "def reverseComplementDataframe(inframe):\n",
    "    maxpos = inframe['position'].max()\n",
    "    modFrame = inframe.copy()\n",
    "    modFrame['realpos'] = abs(maxpos - modFrame['position']) + 1\n",
    "    outframe = pd.DataFrame()\n",
    "    outframe['position'] = modFrame['realpos']\n",
    "    outframe['A'] = modFrame['T']\n",
    "    outframe['T'] = modFrame['A']\n",
    "    outframe['C'] = modFrame['G']\n",
    "    outframe['G'] = modFrame['C']\n",
    "    return outframe\n",
    "\n",
    "data = reverseComplementDataframe(pd.read_csv('Results/naturalAnalysis/PB1natural.tsv', sep='\\t'))\n",
    "\n",
    "data['majorityVariant'] = data[['A','G','C','T']].idxmax(axis=1)\n",
    "data['totalDepth'] = data[['A','G','C','T']].sum(axis=1)\n",
    "def minorityVariant(row):\n",
    "    column = row.majorityVariant\n",
    "    if row.totalDepth != 0:\n",
    "        return  1 - (row[column]/row.totalDepth)\n",
    "    else:\n",
    "        return 0\n",
    "data['minorityFreq'] = data.apply(lambda row: minorityVariant(row), axis=1)"
   ]
  },
  {
   "cell_type": "markdown",
   "id": "a8f319ad-a237-4bbf-ba6d-68fba0815549",
   "metadata": {},
   "source": [
    "Call as binary. Where to set threshold? Lets do a rarefaction analysis."
   ]
  },
  {
   "cell_type": "code",
   "execution_count": 38,
   "id": "cfc8098b-fb09-4c37-b566-eb53e5021198",
   "metadata": {},
   "outputs": [],
   "source": [
    "currFrac = 0.0001\n",
    "step = 0.0001\n",
    "graph = []\n",
    "totalsites = len(data)\n",
    "while currFrac <= 0.75:\n",
    "    totals = len(data.loc[data.minorityFreq>= currFrac])/totalsites\n",
    "    graph += [pd.DataFrame({'variable_cutoff':[currFrac], 'fraction of sites':[totals]})]\n",
    "    currFrac += step\n",
    "graph = pd.concat(graph)\n",
    "    "
   ]
  },
  {
   "cell_type": "code",
   "execution_count": 39,
   "id": "2c85bf2c-1254-49a9-a195-819ade1dea0c",
   "metadata": {},
   "outputs": [
    {
     "data": {
      "image/png": "[encoded data removed]",
      "text/plain": [
       "<Figure size 640x480 with 1 Axes>"
      ]
     },
     "metadata": {},
     "output_type": "display_data"
    }
   ],
   "source": [
    "sns.lineplot(data=graph, x='variable_cutoff', y='fraction of sites', color='k')\n",
    "plt.axvline(0.025, ls = '--', alpha =0.5, color = 'k')\n",
    "sns.despine()\n",
    "plt.savefig('Figures/variantCutoff.pdf', format='pdf', bbox_inches = \"tight\")\n"
   ]
  },
  {
   "cell_type": "code",
   "execution_count": 40,
   "id": "76828089-1f6c-489a-849a-adf3f6bd24be",
   "metadata": {},
   "outputs": [],
   "source": [
    "data['category'] = 'CDS'\n",
    "data.loc[data['position'] <= 13, 'category'] = 'U13'\n",
    "data.loc[data['position'] >= (data['position'].max() - 12), 'category'] = 'U12'\n",
    "data.loc[(data['position'] <= 125) & (data['position'] >= 75), 'category'] = 'del1'\n",
    "data.loc[(data['position'] <= 2192) & (data['position'] >= 2116), 'category'] = 'del2'\n",
    "data.loc[(data['position'] <= 43) & (data['position'] >= 14), 'category'] = '5UTR'\n",
    "data.loc[(data['position'] <= 2329) & (data['position'] >= 2318), 'category'] = '3UTR'\n",
    "data['variable'] = data.minorityFreq > 0.025"
   ]
  },
  {
   "cell_type": "code",
   "execution_count": 41,
   "id": "48703856-1bed-49d1-93a5-f3ea314bb722",
   "metadata": {},
   "outputs": [
    {
     "name": "stderr",
     "output_type": "stream",
     "text": [
      "/tmp/ipykernel_3918634/2539276962.py:2: SettingWithCopyWarning: \n",
      "A value is trying to be set on a copy of a slice from a DataFrame.\n",
      "Try using .loc[row_indexer,col_indexer] = value instead\n",
      "\n",
      "See the caveats in the documentation: https://pandas.pydata.org/pandas-docs/stable/user_guide/indexing.html#returning-a-view-versus-a-copy\n",
      "  graph['del1'] = graph.category == 'del1'\n"
     ]
    }
   ],
   "source": [
    "graph = data.loc[data.category.isin(['del1','CDS']),]\n",
    "graph['del1'] = graph.category == 'del1'"
   ]
  },
  {
   "cell_type": "code",
   "execution_count": 42,
   "id": "2c2669b8-b0fb-4c54-a98a-fddda0c6ca2a",
   "metadata": {},
   "outputs": [
    {
     "name": "stdout",
     "output_type": "stream",
     "text": [
      "The null hypothesis is rejected at a pvalue of 0.004914743692407157\n"
     ]
    },
    {
     "data": {
      "image/png": "[encoded data removed]",
      "text/plain": [
       "<Figure size 400x300 with 1 Axes>"
      ]
     },
     "metadata": {},
     "output_type": "display_data"
    }
   ],
   "source": [
    "fig,ax = plt.subplots(1,1, figsize=(4,3))\n",
    "\n",
    "contingency = pd.crosstab(graph.del1, graph.variable)\n",
    "ratio, pval = scipy.stats.fisher_exact(contingency)\n",
    "frequency = pd.crosstab(graph.del1, graph.variable, normalize='index').stack().reset_index().rename(columns={0:'value'})\n",
    "frequency['value'] = frequency.value * 100\n",
    "sns.barplot(x= 'del1', y='value', hue='variable', data=frequency, ax = ax)\n",
    "sns.despine()\n",
    "ax.set_ylabel('frequency of population')\n",
    "\n",
    "if(pval < 0.05):\n",
    "    print('The null hypothesis is rejected at a pvalue of {0}'.format(str(pval)))\n",
    "else:\n",
    "    print('the null hypothesis fails to be rejected at a pvalue of '.format(str(pval)))\n",
    "sns.despine()\n",
    "a = plt.ylabel('frequency of population')\n",
    "plt.savefig('Figures/variationNatDivdel1vsCDS.pdf', format='pdf', bbox_inches = \"tight\")"
   ]
  },
  {
   "cell_type": "code",
   "execution_count": 43,
   "id": "36d5ea89-8900-4cdc-8bee-06754b1d96f6",
   "metadata": {},
   "outputs": [
    {
     "name": "stderr",
     "output_type": "stream",
     "text": [
      "/tmp/ipykernel_3918634/4277197187.py:2: SettingWithCopyWarning: \n",
      "A value is trying to be set on a copy of a slice from a DataFrame.\n",
      "Try using .loc[row_indexer,col_indexer] = value instead\n",
      "\n",
      "See the caveats in the documentation: https://pandas.pydata.org/pandas-docs/stable/user_guide/indexing.html#returning-a-view-versus-a-copy\n",
      "  graph['del1'] = graph.category == 'del1'\n"
     ]
    }
   ],
   "source": [
    "graph = data.loc[data.category.isin(['del1','del2']),]\n",
    "graph['del1'] = graph.category == 'del1'"
   ]
  },
  {
   "cell_type": "code",
   "execution_count": 44,
   "id": "c71e00e8-b13b-4920-9c39-81be7a7c7e29",
   "metadata": {},
   "outputs": [
    {
     "name": "stdout",
     "output_type": "stream",
     "text": [
      "The null hypothesis is rejected at a pvalue of 0.011277504702618298\n"
     ]
    },
    {
     "data": {
      "image/png": "[encoded data removed]",
      "text/plain": [
       "<Figure size 400x300 with 1 Axes>"
      ]
     },
     "metadata": {},
     "output_type": "display_data"
    }
   ],
   "source": [
    "fig,ax = plt.subplots(1,1, figsize=(4,3))\n",
    "\n",
    "contingency = pd.crosstab(graph.del1, graph.variable)\n",
    "ratio, pval = scipy.stats.fisher_exact(contingency)\n",
    "frequency = pd.crosstab(graph.del1, graph.variable, normalize='index').stack().reset_index().rename(columns={0:'value'})\n",
    "frequency['value'] = frequency.value * 100\n",
    "sns.barplot(x= 'del1', y='value', hue='variable', data=frequency, ax = ax)\n",
    "sns.despine()\n",
    "ax.set_ylabel('frequency of population')\n",
    "\n",
    "if(pval < 0.05):\n",
    "    print('The null hypothesis is rejected at a pvalue of {0}'.format(str(pval)))\n",
    "else:\n",
    "    print('the null hypothesis fails to be rejected at a pvalue of '.format(str(pval)))\n",
    "sns.despine()\n",
    "a = plt.ylabel('frequency of population')\n",
    "plt.savefig('Figures/variationNatDivdel1vsdel2.pdf', format='pdf', bbox_inches = \"tight\")"
   ]
  },
  {
   "cell_type": "code",
   "execution_count": 45,
   "id": "7de3d31b-0664-42b1-a2b8-c8f61ee4b7ca",
   "metadata": {},
   "outputs": [],
   "source": [
    "dataFolder = 'Results/SNPcounts'\n",
    "\n",
    "#adjust coordinates for adapters\n",
    "posAdjustAmplicon = 14\n",
    "posAdjustRACE = 30\n",
    "PB1delLength = 562\n",
    "\n",
    "posAdjustRACEplas = 56\n"
   ]
  },
  {
   "cell_type": "code",
   "execution_count": 46,
   "id": "dd3dba6e-ae2c-407b-8693-43cd81140ed1",
   "metadata": {},
   "outputs": [],
   "source": [
    "data = []\n",
    "for file in glob.glob('Results/SNPcounts/*.tsv'):\n",
    "    baseName = os.path.basename(file)\n",
    "    if baseName.split('_')[0] == 'RACE':\n",
    "        currData = pd.read_csv(file, sep = '\\t')\n",
    "        currData['category'] = baseName.split('-')[0].split('_')[1]\n",
    "        currData['replicate'] = baseName.split('-')[1][0]\n",
    "        if baseName.split('-')[0].split('_')[1] != 'plas':\n",
    "            currData['position'] = currData['position']-posAdjustRACE\n",
    "        else:\n",
    "            currData['position'] = currData['position']-posAdjustRACEplas\n",
    "        currData['sequencing'] = 'RACE'\n",
    "        #only use to infer to first and last 20 nt\n",
    "        currData = currData[(currData['position'] <= 20) | (currData['position'] > PB1delLength - 20)]\n",
    "        data += [currData]\n",
    "\n",
    "    else:\n",
    "        currData = pd.read_csv(file, sep = '\\t')\n",
    "        currData['category'] = baseName.split('-')[0]\n",
    "        currData['replicate'] = baseName.split('-')[1][0]\n",
    "        currData['position'] = currData['position']-posAdjustAmplicon\n",
    "        currData['sequencing'] = 'amplicon'\n",
    "        #exclude first and last 20 nt\n",
    "        currData = currData[(currData['position'] > 20) & (currData['position'] <=PB1delLength - 20)]\n",
    "        data += [currData]\n",
    "data = pd.concat(data)\n",
    "data = data.loc[(data.position > 0) & (data.position <= PB1delLength)]"
   ]
  },
  {
   "cell_type": "code",
   "execution_count": 47,
   "id": "124d3ed4-b397-49a3-836b-453199379076",
   "metadata": {},
   "outputs": [],
   "source": [
    "data['majorityVariant'] = data[['A','G','C','T']].idxmax(axis=1)\n",
    "data['totalDepth'] = data[['A','G','C','T']].sum(axis=1)\n",
    "def minorityVariant(row):\n",
    "    column = row.majorityVariant\n",
    "    if row.totalDepth != 0:\n",
    "        return  1 - (row[column]/row.totalDepth)\n",
    "    else:\n",
    "        return 0\n",
    "plasmid = data.loc[(data.category == 'plas'),]\n",
    "data['minorityFreq'] = data.apply(lambda row: minorityVariant(row), axis=1)"
   ]
  },
  {
   "cell_type": "code",
   "execution_count": 48,
   "id": "dfd5ab7e-1880-4b50-8d46-fb54d909efd7",
   "metadata": {},
   "outputs": [],
   "source": [
    "allPoints = data.pivot_table(index=['position', 'replicate'], columns='category', values='minorityFreq').reset_index()\n",
    "allPoints['difference'] = np.log2(allPoints.withNEP/allPoints.noNEP)\n",
    "allPoints['pval_difference'] = allPoints.apply(lambda row: stats.ttest_1samp(allPoints[allPoints.position == row.position].difference, popmean=0)[1], axis =1 )\n",
    "\n",
    "allPoints['mg'] = np.log2(allPoints.noNEP/allPoints.plas)\n",
    "allPoints['pval_mg'] = allPoints.apply(lambda row: stats.ttest_1samp(allPoints[allPoints.position == row.position].mg, popmean=0)[1], axis =1 )\n",
    "\n",
    "allPoints['NS2'] = np.log2(allPoints.withNEP/allPoints.plas)\n",
    "allPoints['pval_NS2'] = allPoints.apply(lambda row: stats.ttest_1samp(allPoints[allPoints.position == row.position].NS2, popmean=0)[1], axis =1 )\n",
    "\n",
    "\n",
    "PB1length = 2341\n",
    "allPoints['context'] = 'CDS'\n",
    "allPoints.loc[allPoints.position <= 24, 'context'] = '3\\' UTR'\n",
    "allPoints.loc[allPoints.position <= 12, 'context'] = 'U12'\n",
    "allPoints.loc[allPoints.position >= 519, 'context'] = '5\\' UTR'\n",
    "allPoints.loc[(allPoints.position >= 542) & (allPoints.position <= 547), 'context'] = 'polyA'\n",
    "\n",
    "allPoints.loc[allPoints.position >= 550, 'context'] = 'U13'\n",
    "#fix position in positive then invert\n",
    "junctionLastBase = 385\n",
    "otherSideExclude = 2164\n",
    "\n",
    "allPoints['FullLengthPos'] = allPoints.position\n",
    "allPoints.loc[allPoints.position > 385, 'FullLengthPos'] = allPoints.loc[allPoints.position > 385].FullLengthPos + otherSideExclude -junctionLastBase \n",
    "#now invert\n",
    "allPoints['FullLengthPos'] = PB1length - allPoints.FullLengthPos + 1\n",
    "\n",
    "\n",
    "#combine measurements for appropriate qval and some graphing\n",
    "freqCompare = allPoints[['FullLengthPos',\n",
    " 'NS2',\n",
    " 'context',\n",
    " 'difference',\n",
    " 'mg',\n",
    " 'position',\n",
    " 'pval_NS2',\n",
    " 'pval_difference',\n",
    " 'pval_mg',]].groupby(['FullLengthPos','context']).mean().reset_index()\n",
    "\n",
    "\n",
    "freqCompare['qval_difference'] =  multitest.multipletests(freqCompare.pval_difference, alpha=0.1, method='fdr_bh', is_sorted=False, returnsorted=False)[1]\n",
    "freqCompare['significant_difference'] = (freqCompare.qval_difference < 0.1) & (abs(freqCompare.difference) >= 1)\n",
    "\n",
    "freqCompare['qval_mg'] =  multitest.multipletests(freqCompare.pval_mg, alpha=0.1, method='fdr_bh', is_sorted=False, returnsorted=False)[1]\n",
    "freqCompare['significant_mg'] = freqCompare.qval_mg < 0.1\n",
    "\n",
    "freqCompare['qval_NS2'] =  multitest.multipletests(freqCompare.pval_NS2, alpha=0.1, method='fdr_bh', is_sorted=False, returnsorted=False)[1]\n",
    "freqCompare['significant_NS2'] = freqCompare.qval_NS2 < 0.1"
   ]
  },
  {
   "cell_type": "code",
   "execution_count": 49,
   "id": "0bbf7840-35e6-45ab-be81-34f20fe887e1",
   "metadata": {},
   "outputs": [],
   "source": [
    "NS2responsive = freqCompare[freqCompare.significant_difference].FullLengthPos"
   ]
  },
  {
   "cell_type": "code",
   "execution_count": 50,
   "id": "a9e3705c-1688-4efc-80fd-66191f12dfc9",
   "metadata": {},
   "outputs": [
    {
     "data": {
      "text/plain": [
       "14       15\n",
       "15       16\n",
       "17       18\n",
       "19       20\n",
       "20       21\n",
       "21       22\n",
       "22       23\n",
       "27       28\n",
       "54       55\n",
       "55       56\n",
       "70       71\n",
       "71       72\n",
       "81       82\n",
       "82       83\n",
       "90       91\n",
       "539    2319\n",
       "540    2320\n",
       "541    2321\n",
       "542    2322\n",
       "543    2323\n",
       "545    2325\n",
       "546    2326\n",
       "547    2327\n",
       "548    2328\n",
       "555    2335\n",
       "559    2339\n",
       "560    2340\n",
       "Name: FullLengthPos, dtype: int64"
      ]
     },
     "execution_count": 50,
     "metadata": {},
     "output_type": "execute_result"
    }
   ],
   "source": [
    "NS2responsive"
   ]
  },
  {
   "cell_type": "code",
   "execution_count": 51,
   "id": "cc65feca-54d7-40ea-9c6d-b856fc343a8c",
   "metadata": {},
   "outputs": [],
   "source": [
    "def reverseComplementDataframe(inframe):\n",
    "    maxpos = inframe['position'].max()\n",
    "    modFrame = inframe.copy()\n",
    "    modFrame['realpos'] = abs(maxpos - modFrame['position']) + 1\n",
    "    outframe = pd.DataFrame()\n",
    "    outframe['position'] = modFrame['realpos']\n",
    "    outframe['A'] = modFrame['T']\n",
    "    outframe['T'] = modFrame['A']\n",
    "    outframe['C'] = modFrame['G']\n",
    "    outframe['G'] = modFrame['C']\n",
    "    return outframe\n",
    "\n",
    "data = reverseComplementDataframe(pd.read_csv('Results/naturalAnalysis/PB1natural.tsv', sep='\\t'))\n",
    "\n",
    "data['majorityVariant'] = data[['A','G','C','T']].idxmax(axis=1)\n",
    "data['totalDepth'] = data[['A','G','C','T']].sum(axis=1)\n",
    "def minorityVariant(row):\n",
    "    column = row.majorityVariant\n",
    "    if row.totalDepth != 0:\n",
    "        return  1 - (row[column]/row.totalDepth)\n",
    "    else:\n",
    "        return 0\n",
    "data['minorityFreq'] = data.apply(lambda row: minorityVariant(row), axis=1)"
   ]
  },
  {
   "cell_type": "code",
   "execution_count": 52,
   "id": "dd1ab668-d66d-403b-9d27-eb31f4c6414f",
   "metadata": {},
   "outputs": [],
   "source": [
    "data['category'] = data['position'].isin(NS2responsive)\n",
    "data['variable'] = data.minorityFreq > 0.025"
   ]
  },
  {
   "cell_type": "code",
   "execution_count": 53,
   "id": "8a7c15cd-728c-4c4c-a5ba-88a1623659d7",
   "metadata": {},
   "outputs": [
    {
     "name": "stdout",
     "output_type": "stream",
     "text": [
      "The null hypothesis is rejected at a pvalue of 1.4341078095462772e-05\n"
     ]
    },
    {
     "data": {
      "image/png": "[encoded data removed]",
      "text/plain": [
       "<Figure size 400x300 with 1 Axes>"
      ]
     },
     "metadata": {},
     "output_type": "display_data"
    }
   ],
   "source": [
    "fig,ax = plt.subplots(1,1, figsize=(4,3))\n",
    "\n",
    "contingency = pd.crosstab(data.category, data.variable)\n",
    "ratio, pval = scipy.stats.fisher_exact(contingency)\n",
    "frequency = pd.crosstab(data.category, data.variable, normalize='index').stack().reset_index().rename(columns={0:'value'})\n",
    "frequency['value'] = frequency.value * 100\n",
    "sns.barplot(x= 'category', y='value', hue='variable', data=frequency, ax = ax)\n",
    "sns.despine()\n",
    "ax.set_ylabel('frequency of population')\n",
    "\n",
    "if(pval < 0.05):\n",
    "    print('The null hypothesis is rejected at a pvalue of {0}'.format(str(pval)))\n",
    "else:\n",
    "    print('the null hypothesis fails to be rejected at a pvalue of '.format(str(pval)))\n",
    "sns.despine()\n",
    "a = plt.ylabel('frequency of population')\n",
    "plt.savefig('Figures/variationNS2respvsall.pdf', format='pdf', bbox_inches = \"tight\")"
   ]
  },
  {
   "cell_type": "markdown",
   "id": "d6cac55e-3249-4edb-be6c-b8c5aba2ca20",
   "metadata": {},
   "source": [
    "Time for logo plot I guess."
   ]
  },
  {
   "cell_type": "markdown",
   "id": "e331f256-d713-475f-b0fb-51b16acdedf4",
   "metadata": {},
   "source": [
    "Use preferences to infer frequency (ie start at 0.25 for each nucleotide, and scale by selection)\n",
    "\n",
    "total height of column is log2(4)  - Hi  + en) Hi is shannon entropy\n",
    "        =entropy will be the sum of frequencies multiplied by log2 of frequencies\n",
    "        =add in En, which for nucleotides is 1/ln2 x (s-1)/2n, where s is 4, and n will be number of sequences in alignment. (vanishingly small number in this case)"
   ]
  },
  {
   "cell_type": "code",
   "execution_count": 32,
   "id": "bbe15c71-8f1a-4c31-816f-6b00849cebc9",
   "metadata": {},
   "outputs": [],
   "source": [
    "data = []\n",
    "for file in glob.glob('Results/SNPcounts/*.tsv'):\n",
    "    baseName = os.path.basename(file)\n",
    "    if baseName.split('_')[0] == 'RACE':\n",
    "        currData = pd.read_csv(file, sep = '\\t')\n",
    "        currData['category'] = baseName.split('-')[0].split('_')[1]\n",
    "        currData['replicate'] = baseName.split('-')[1][0]\n",
    "        if baseName.split('-')[0].split('_')[1] != 'plas':\n",
    "            currData['position'] = currData['position']-posAdjustRACE\n",
    "        else:\n",
    "            currData['position'] = currData['position']-posAdjustRACEplas\n",
    "        currData['sequencing'] = 'RACE'\n",
    "        #only use to infer to first and last 20 nt\n",
    "        currData = currData[(currData['position'] <= 20) | (currData['position'] > PB1delLength - 20)]\n",
    "        data += [currData]\n",
    "\n",
    "    else:\n",
    "        currData = pd.read_csv(file, sep = '\\t')\n",
    "        currData['category'] = baseName.split('-')[0]\n",
    "        currData['replicate'] = baseName.split('-')[1][0]\n",
    "        currData['position'] = currData['position']-posAdjustAmplicon\n",
    "        currData['sequencing'] = 'amplicon'\n",
    "        #exclude first and last 20 nt\n",
    "        currData = currData[(currData['position'] > 20) & (currData['position'] <=PB1delLength - 20)]\n",
    "        data += [currData]\n",
    "data = pd.concat(data)\n",
    "data = data.loc[(data.position > 0) & (data.position <= PB1delLength)]"
   ]
  },
  {
   "cell_type": "code",
   "execution_count": 23,
   "id": "40f85cc7-e9ba-4b42-810f-022a4e7dfb7f",
   "metadata": {},
   "outputs": [],
   "source": [
    "data['totalDepth'] = data[['A','G','C','T']].sum(axis=1)\n",
    "data['A'] = data.A/data.totalDepth\n",
    "data['G'] = data.G/data.totalDepth\n",
    "data['C'] = data.C/data.totalDepth\n",
    "data['T'] = data['T']/data.totalDepth\n"
   ]
  },
  {
   "cell_type": "code",
   "execution_count": 24,
   "id": "2366a96a-625e-45e9-8405-c13dfc15f73a",
   "metadata": {},
   "outputs": [],
   "source": [
    "allPoints = data.pivot_table(index=['position', 'replicate'], columns='category', values=['A','G','C','T']).reset_index()\n",
    "\n"
   ]
  },
  {
   "cell_type": "code",
   "execution_count": 25,
   "id": "4632be8d-7054-4a40-aa08-f6e7e9dea471",
   "metadata": {},
   "outputs": [],
   "source": [
    "#reverse complement here too\n",
    "categories = {'NS2_specific':('withNEP','noNEP'), 'NS2_mg':('withNEP','plas'),'Mg':('noNEP','plas')}\n",
    "basesRC = [('A','U'),('G','C'),('C','G'),('T','A')]\n",
    "for category in categories:\n",
    "    numerator = categories[category][0]\n",
    "    denominator = categories[category][1]\n",
    "    for baseRC in basesRC:\n",
    "        if allPoints[baseRC[0]][denominator].iloc[0] != 0:\n",
    "            allPoints[category + '_' + baseRC[1]] = allPoints[baseRC[0]][numerator]/allPoints[baseRC[0]][denominator]\n",
    "        else:\n",
    "            allPoints[category + '_' + baseRC[1]] = 0\n",
    "allPoints.replace([np.inf, -np.inf],0, inplace=True)\n"
   ]
  },
  {
   "cell_type": "code",
   "execution_count": 26,
   "id": "eda7759f-14e3-4578-b3d4-9f906f39ef52",
   "metadata": {},
   "outputs": [
    {
     "name": "stderr",
     "output_type": "stream",
     "text": [
      "/tmp/ipykernel_3918634/201082766.py:1: PerformanceWarning: dropping on a non-lexsorted multi-index without a level parameter may impact performance.\n",
      "  graph = allPoints.drop(columns=['replicate']).groupby(['position']).mean().reset_index()\n"
     ]
    }
   ],
   "source": [
    "graph = allPoints.drop(columns=['replicate']).groupby(['position']).mean().reset_index()\n",
    "\n",
    "\n"
   ]
  },
  {
   "cell_type": "markdown",
   "id": "017110b7-fb05-4d6d-bb00-8452461b96d3",
   "metadata": {},
   "source": [
    "Convert to frequencies"
   ]
  }
 ],
 "metadata": {
  "kernelspec": {
   "display_name": "Python 3 (ipykernel)",
   "language": "python",
   "name": "python3"
  },
  "language_info": {
   "codemirror_mode": {
    "name": "ipython",
    "version": 3
   },
   "file_extension": ".py",
   "mimetype": "text/x-python",
   "name": "python",
   "nbconvert_exporter": "python",
   "pygments_lexer": "ipython3",
   "version": "3.12.2"
  }
 },
 "nbformat": 4,
 "nbformat_minor": 5
}
